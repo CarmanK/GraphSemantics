{
 "cells": [
  {
   "cell_type": "code",
   "execution_count": 2,
   "metadata": {},
   "outputs": [],
   "source": [
    "import pandas as pd\n",
    "import numpy as np\n",
    "import csv\n",
    "import math\n",
    "from bs4 import BeautifulSoup\n",
    "from gensim.summarization.bm25 import get_bm25_weights\n",
    "from rank_bm25 import BM25Okapi\n",
    "import json\n",
    "from termcolor import colored\n",
    "import re\n",
    "import itertools\n",
    "from functools import reduce"
   ]
  },
  {
   "cell_type": "code",
   "execution_count": 3,
   "metadata": {},
   "outputs": [],
   "source": [
    "with open('./output_data/tmp/article_pool.json', 'r') as input_file:\n",
    "    phrase_list = json.load(input_file)\n",
    "\n",
    "data_df_layer_1 = pd.DataFrame(phrase_list[0])\n",
    "layer_num = len(phrase_list)\n",
    "unique_phrase_list = np.unique(data_df_layer_1['phrase'].values)"
   ]
  },
  {
   "cell_type": "code",
   "execution_count": 4,
   "metadata": {},
   "outputs": [],
   "source": [
    "def p_list_fixed_points(layer_num):\n",
    "    ans = []\n",
    "    for i in range(layer_num):\n",
    "        p_list = list(pd.read_json('./output_data/tmp/selected_phrases.json',typ='series')[i])\n",
    "        for j in range(len(p_list)):\n",
    "            if p_list[j] not in ans:\n",
    "                ans.append(p_list[j])\n",
    "    return ans"
   ]
  },
  {
   "cell_type": "code",
   "execution_count": 5,
   "metadata": {},
   "outputs": [
    {
     "data": {
      "text/plain": [
       "['NOX',\n",
       " 'gas',\n",
       " 'nitric oxide',\n",
       " 'sensor',\n",
       " 'Aromatic Residue',\n",
       " 'Binding Site',\n",
       " 'C-Type Cytochromes',\n",
       " 'Coarse-grained molecular dynamics simulations',\n",
       " 'Heme',\n",
       " 'Membrane-bound']"
      ]
     },
     "execution_count": 5,
     "metadata": {},
     "output_type": "execute_result"
    }
   ],
   "source": [
    "p_list = list(pd.read_json('./output_data/tmp/selected_phrases.json',typ='series')[2])\n",
    "p_list"
   ]
  },
  {
   "cell_type": "code",
   "execution_count": 6,
   "metadata": {},
   "outputs": [
    {
     "data": {
      "text/plain": [
       "['sulfite',\n",
       " 'aromatic ring',\n",
       " 'copper',\n",
       " 'redox',\n",
       " 'ATCC',\n",
       " 'Desulfovibrio desulfuricans',\n",
       " 'catalytic activity',\n",
       " 'kinetics',\n",
       " 'partially reduced',\n",
       " 'photosystem II',\n",
       " 'quaternary',\n",
       " 'porphyrin',\n",
       " 'Thionville',\n",
       " 'alpha1beta2 interface',\n",
       " 'human',\n",
       " 'Bohr effect',\n",
       " 'deoxy Hb',\n",
       " 'sulfate',\n",
       " 'alpha and beta',\n",
       " 'alpha subunits',\n",
       " 'NOX',\n",
       " 'gas',\n",
       " 'nitric oxide',\n",
       " 'sensor',\n",
       " 'Aromatic Residue',\n",
       " 'Binding Site',\n",
       " 'C-Type Cytochromes',\n",
       " 'Coarse-grained molecular dynamics simulations',\n",
       " 'Heme',\n",
       " 'Membrane-bound']"
      ]
     },
     "execution_count": 6,
     "metadata": {},
     "output_type": "execute_result"
    }
   ],
   "source": [
    "p_list = p_list_fixed_points(3)\n",
    "p_list"
   ]
  },
  {
   "cell_type": "code",
   "execution_count": 7,
   "metadata": {},
   "outputs": [],
   "source": [
    "list_of_phrase_list = []\n",
    "for i in range(len(unique_phrase_list)):\n",
    "    tmplist =[]\n",
    "    for j in range(len(p_list)):\n",
    "        if p_list[j] in unique_phrase_list[i]:\n",
    "            tmplist.append(p_list[j])\n",
    "    list_of_phrase_list.append(tmplist)"
   ]
  },
  {
   "cell_type": "code",
   "execution_count": 8,
   "metadata": {},
   "outputs": [],
   "source": [
    "def create_sentece_list(unique_phrase_list):\n",
    "    list_of_phrase_list = []\n",
    "    for i in range(len(unique_phrase_list)):\n",
    "        tmplist =[]\n",
    "        for j in range(len(p_list)):\n",
    "            if p_list[j] in unique_phrase_list[i]:\n",
    "                tmplist.append(p_list[j])\n",
    "        list_of_phrase_list.append(tmplist)\n",
    "    return list_of_phrase_list"
   ]
  },
  {
   "cell_type": "code",
   "execution_count": 9,
   "metadata": {},
   "outputs": [],
   "source": [
    "def create_sentence_pool(data_df_layer_1):\n",
    "    article_list = data_df_layer_1['article'].values\n",
    "    #for each article, find all sentence\n",
    "    article_list[0]\n",
    "    sentence_dic = {}\n",
    "    list_sentence = []\n",
    "    s_count = 0 #sentence index\n",
    "    for i in range(len(article_list)):\n",
    "        #for every sentence, if not in sentence_list, push sentence in list\n",
    "        tmp_sentence_list = re.split('(?<!\\w\\.\\w.)(?<![A-Z][a-z]\\.)(?<=\\.|\\?)\\s', article_list[i])\n",
    "        for j in range(len(tmp_sentence_list)):\n",
    "#          if tmp_sentence_list[j] not in article_list:\n",
    "            sentence_dic[s_count] = tmp_sentence_list[j]\n",
    "            list_sentence.append(tmp_sentence_list[j])\n",
    "            s_count +=1\n",
    "    return np.unique(list_sentence)"
   ]
  },
  {
   "cell_type": "code",
   "execution_count": 10,
   "metadata": {},
   "outputs": [],
   "source": [
    "#%%\n",
    "#create the article pool now\n",
    "article_list = data_df_layer_1['article'].values\n",
    "#for each article, find all sentence\n",
    "sentence_dic = {}\n",
    "list_sentence = []\n",
    "s_count = 0 #sentence index\n",
    "for i in range(len(article_list)):\n",
    "    #for every sentence, if not in sentence_list, push sentence in list\n",
    "    tmp_sentence_list = re.split('(?<!\\w\\.\\w.)(?<![A-Z][a-z]\\.)(?<=\\.|\\?)\\s', article_list[i])\n",
    "    for j in range(len(tmp_sentence_list)):\n",
    "#         if tmp_sentence_list[j] not in article_list:\n",
    "        sentence_dic[s_count] = tmp_sentence_list[j]\n",
    "        list_sentence.append(tmp_sentence_list[j])        \n",
    "        s_count +=1\n",
    "list_sentence = np.unique(list_sentence)\n"
   ]
  },
  {
   "cell_type": "code",
   "execution_count": 11,
   "metadata": {},
   "outputs": [
    {
     "data": {
      "text/plain": [
       "['sulfite',\n",
       " 'aromatic ring',\n",
       " 'copper',\n",
       " 'redox',\n",
       " 'ATCC',\n",
       " 'Desulfovibrio desulfuricans',\n",
       " 'catalytic activity',\n",
       " 'kinetics',\n",
       " 'partially reduced',\n",
       " 'photosystem II',\n",
       " 'quaternary',\n",
       " 'porphyrin',\n",
       " 'Thionville',\n",
       " 'alpha1beta2 interface',\n",
       " 'human',\n",
       " 'Bohr effect',\n",
       " 'deoxy Hb',\n",
       " 'sulfate',\n",
       " 'alpha and beta',\n",
       " 'alpha subunits',\n",
       " 'NOX',\n",
       " 'gas',\n",
       " 'nitric oxide',\n",
       " 'sensor',\n",
       " 'Aromatic Residue',\n",
       " 'Binding Site',\n",
       " 'C-Type Cytochromes',\n",
       " 'Coarse-grained molecular dynamics simulations',\n",
       " 'Heme',\n",
       " 'Membrane-bound']"
      ]
     },
     "execution_count": 11,
     "metadata": {},
     "output_type": "execute_result"
    }
   ],
   "source": [
    "p_list"
   ]
  },
  {
   "cell_type": "code",
   "execution_count": 12,
   "metadata": {},
   "outputs": [
    {
     "name": "stdout",
     "output_type": "stream",
     "text": [
      "[('sulfite', 'aromatic ring'), ('sulfite', 'copper'), ('sulfite', 'redox'), ('sulfite', 'ATCC'), ('sulfite', 'Desulfovibrio desulfuricans'), ('sulfite', 'catalytic activity'), ('sulfite', 'kinetics'), ('sulfite', 'partially reduced'), ('sulfite', 'photosystem II'), ('sulfite', 'quaternary'), ('sulfite', 'porphyrin'), ('sulfite', 'Thionville'), ('sulfite', 'alpha1beta2 interface'), ('sulfite', 'human'), ('sulfite', 'Bohr effect'), ('sulfite', 'deoxy Hb'), ('sulfite', 'sulfate'), ('sulfite', 'alpha and beta'), ('sulfite', 'alpha subunits'), ('sulfite', 'NOX'), ('sulfite', 'gas'), ('sulfite', 'nitric oxide'), ('sulfite', 'sensor'), ('sulfite', 'Aromatic Residue'), ('sulfite', 'Binding Site'), ('sulfite', 'C-Type Cytochromes'), ('sulfite', 'Coarse-grained molecular dynamics simulations'), ('sulfite', 'Heme'), ('sulfite', 'Membrane-bound'), ('aromatic ring', 'copper'), ('aromatic ring', 'redox'), ('aromatic ring', 'ATCC'), ('aromatic ring', 'Desulfovibrio desulfuricans'), ('aromatic ring', 'catalytic activity'), ('aromatic ring', 'kinetics'), ('aromatic ring', 'partially reduced'), ('aromatic ring', 'photosystem II'), ('aromatic ring', 'quaternary'), ('aromatic ring', 'porphyrin'), ('aromatic ring', 'Thionville'), ('aromatic ring', 'alpha1beta2 interface'), ('aromatic ring', 'human'), ('aromatic ring', 'Bohr effect'), ('aromatic ring', 'deoxy Hb'), ('aromatic ring', 'sulfate'), ('aromatic ring', 'alpha and beta'), ('aromatic ring', 'alpha subunits'), ('aromatic ring', 'NOX'), ('aromatic ring', 'gas'), ('aromatic ring', 'nitric oxide'), ('aromatic ring', 'sensor'), ('aromatic ring', 'Aromatic Residue'), ('aromatic ring', 'Binding Site'), ('aromatic ring', 'C-Type Cytochromes'), ('aromatic ring', 'Coarse-grained molecular dynamics simulations'), ('aromatic ring', 'Heme'), ('aromatic ring', 'Membrane-bound'), ('copper', 'redox'), ('copper', 'ATCC'), ('copper', 'Desulfovibrio desulfuricans'), ('copper', 'catalytic activity'), ('copper', 'kinetics'), ('copper', 'partially reduced'), ('copper', 'photosystem II'), ('copper', 'quaternary'), ('copper', 'porphyrin'), ('copper', 'Thionville'), ('copper', 'alpha1beta2 interface'), ('copper', 'human'), ('copper', 'Bohr effect'), ('copper', 'deoxy Hb'), ('copper', 'sulfate'), ('copper', 'alpha and beta'), ('copper', 'alpha subunits'), ('copper', 'NOX'), ('copper', 'gas'), ('copper', 'nitric oxide'), ('copper', 'sensor'), ('copper', 'Aromatic Residue'), ('copper', 'Binding Site'), ('copper', 'C-Type Cytochromes'), ('copper', 'Coarse-grained molecular dynamics simulations'), ('copper', 'Heme'), ('copper', 'Membrane-bound'), ('redox', 'ATCC'), ('redox', 'Desulfovibrio desulfuricans'), ('redox', 'catalytic activity'), ('redox', 'kinetics'), ('redox', 'partially reduced'), ('redox', 'photosystem II'), ('redox', 'quaternary'), ('redox', 'porphyrin'), ('redox', 'Thionville'), ('redox', 'alpha1beta2 interface'), ('redox', 'human'), ('redox', 'Bohr effect'), ('redox', 'deoxy Hb'), ('redox', 'sulfate'), ('redox', 'alpha and beta'), ('redox', 'alpha subunits'), ('redox', 'NOX'), ('redox', 'gas'), ('redox', 'nitric oxide'), ('redox', 'sensor'), ('redox', 'Aromatic Residue'), ('redox', 'Binding Site'), ('redox', 'C-Type Cytochromes'), ('redox', 'Coarse-grained molecular dynamics simulations'), ('redox', 'Heme'), ('redox', 'Membrane-bound'), ('ATCC', 'Desulfovibrio desulfuricans'), ('ATCC', 'catalytic activity'), ('ATCC', 'kinetics'), ('ATCC', 'partially reduced'), ('ATCC', 'photosystem II'), ('ATCC', 'quaternary'), ('ATCC', 'porphyrin'), ('ATCC', 'Thionville'), ('ATCC', 'alpha1beta2 interface'), ('ATCC', 'human'), ('ATCC', 'Bohr effect'), ('ATCC', 'deoxy Hb'), ('ATCC', 'sulfate'), ('ATCC', 'alpha and beta'), ('ATCC', 'alpha subunits'), ('ATCC', 'NOX'), ('ATCC', 'gas'), ('ATCC', 'nitric oxide'), ('ATCC', 'sensor'), ('ATCC', 'Aromatic Residue'), ('ATCC', 'Binding Site'), ('ATCC', 'C-Type Cytochromes'), ('ATCC', 'Coarse-grained molecular dynamics simulations'), ('ATCC', 'Heme'), ('ATCC', 'Membrane-bound'), ('Desulfovibrio desulfuricans', 'catalytic activity'), ('Desulfovibrio desulfuricans', 'kinetics'), ('Desulfovibrio desulfuricans', 'partially reduced'), ('Desulfovibrio desulfuricans', 'photosystem II'), ('Desulfovibrio desulfuricans', 'quaternary'), ('Desulfovibrio desulfuricans', 'porphyrin'), ('Desulfovibrio desulfuricans', 'Thionville'), ('Desulfovibrio desulfuricans', 'alpha1beta2 interface'), ('Desulfovibrio desulfuricans', 'human'), ('Desulfovibrio desulfuricans', 'Bohr effect'), ('Desulfovibrio desulfuricans', 'deoxy Hb'), ('Desulfovibrio desulfuricans', 'sulfate'), ('Desulfovibrio desulfuricans', 'alpha and beta'), ('Desulfovibrio desulfuricans', 'alpha subunits'), ('Desulfovibrio desulfuricans', 'NOX'), ('Desulfovibrio desulfuricans', 'gas'), ('Desulfovibrio desulfuricans', 'nitric oxide'), ('Desulfovibrio desulfuricans', 'sensor'), ('Desulfovibrio desulfuricans', 'Aromatic Residue'), ('Desulfovibrio desulfuricans', 'Binding Site'), ('Desulfovibrio desulfuricans', 'C-Type Cytochromes'), ('Desulfovibrio desulfuricans', 'Coarse-grained molecular dynamics simulations'), ('Desulfovibrio desulfuricans', 'Heme'), ('Desulfovibrio desulfuricans', 'Membrane-bound'), ('catalytic activity', 'kinetics'), ('catalytic activity', 'partially reduced'), ('catalytic activity', 'photosystem II'), ('catalytic activity', 'quaternary'), ('catalytic activity', 'porphyrin'), ('catalytic activity', 'Thionville'), ('catalytic activity', 'alpha1beta2 interface'), ('catalytic activity', 'human'), ('catalytic activity', 'Bohr effect'), ('catalytic activity', 'deoxy Hb'), ('catalytic activity', 'sulfate'), ('catalytic activity', 'alpha and beta'), ('catalytic activity', 'alpha subunits'), ('catalytic activity', 'NOX'), ('catalytic activity', 'gas'), ('catalytic activity', 'nitric oxide'), ('catalytic activity', 'sensor'), ('catalytic activity', 'Aromatic Residue'), ('catalytic activity', 'Binding Site'), ('catalytic activity', 'C-Type Cytochromes'), ('catalytic activity', 'Coarse-grained molecular dynamics simulations'), ('catalytic activity', 'Heme'), ('catalytic activity', 'Membrane-bound'), ('kinetics', 'partially reduced'), ('kinetics', 'photosystem II'), ('kinetics', 'quaternary'), ('kinetics', 'porphyrin'), ('kinetics', 'Thionville'), ('kinetics', 'alpha1beta2 interface'), ('kinetics', 'human'), ('kinetics', 'Bohr effect'), ('kinetics', 'deoxy Hb'), ('kinetics', 'sulfate'), ('kinetics', 'alpha and beta'), ('kinetics', 'alpha subunits'), ('kinetics', 'NOX'), ('kinetics', 'gas'), ('kinetics', 'nitric oxide'), ('kinetics', 'sensor'), ('kinetics', 'Aromatic Residue'), ('kinetics', 'Binding Site'), ('kinetics', 'C-Type Cytochromes'), ('kinetics', 'Coarse-grained molecular dynamics simulations'), ('kinetics', 'Heme'), ('kinetics', 'Membrane-bound'), ('partially reduced', 'photosystem II'), ('partially reduced', 'quaternary'), ('partially reduced', 'porphyrin'), ('partially reduced', 'Thionville'), ('partially reduced', 'alpha1beta2 interface'), ('partially reduced', 'human'), ('partially reduced', 'Bohr effect'), ('partially reduced', 'deoxy Hb'), ('partially reduced', 'sulfate'), ('partially reduced', 'alpha and beta'), ('partially reduced', 'alpha subunits'), ('partially reduced', 'NOX'), ('partially reduced', 'gas'), ('partially reduced', 'nitric oxide'), ('partially reduced', 'sensor'), ('partially reduced', 'Aromatic Residue'), ('partially reduced', 'Binding Site'), ('partially reduced', 'C-Type Cytochromes'), ('partially reduced', 'Coarse-grained molecular dynamics simulations'), ('partially reduced', 'Heme'), ('partially reduced', 'Membrane-bound'), ('photosystem II', 'quaternary'), ('photosystem II', 'porphyrin'), ('photosystem II', 'Thionville'), ('photosystem II', 'alpha1beta2 interface'), ('photosystem II', 'human'), ('photosystem II', 'Bohr effect'), ('photosystem II', 'deoxy Hb'), ('photosystem II', 'sulfate'), ('photosystem II', 'alpha and beta'), ('photosystem II', 'alpha subunits'), ('photosystem II', 'NOX'), ('photosystem II', 'gas'), ('photosystem II', 'nitric oxide'), ('photosystem II', 'sensor'), ('photosystem II', 'Aromatic Residue'), ('photosystem II', 'Binding Site'), ('photosystem II', 'C-Type Cytochromes'), ('photosystem II', 'Coarse-grained molecular dynamics simulations'), ('photosystem II', 'Heme'), ('photosystem II', 'Membrane-bound'), ('quaternary', 'porphyrin'), ('quaternary', 'Thionville'), ('quaternary', 'alpha1beta2 interface'), ('quaternary', 'human'), ('quaternary', 'Bohr effect'), ('quaternary', 'deoxy Hb'), ('quaternary', 'sulfate'), ('quaternary', 'alpha and beta'), ('quaternary', 'alpha subunits'), ('quaternary', 'NOX'), ('quaternary', 'gas'), ('quaternary', 'nitric oxide'), ('quaternary', 'sensor'), ('quaternary', 'Aromatic Residue'), ('quaternary', 'Binding Site'), ('quaternary', 'C-Type Cytochromes'), ('quaternary', 'Coarse-grained molecular dynamics simulations'), ('quaternary', 'Heme'), ('quaternary', 'Membrane-bound'), ('porphyrin', 'Thionville'), ('porphyrin', 'alpha1beta2 interface'), ('porphyrin', 'human'), ('porphyrin', 'Bohr effect'), ('porphyrin', 'deoxy Hb'), ('porphyrin', 'sulfate'), ('porphyrin', 'alpha and beta'), ('porphyrin', 'alpha subunits'), ('porphyrin', 'NOX'), ('porphyrin', 'gas'), ('porphyrin', 'nitric oxide'), ('porphyrin', 'sensor'), ('porphyrin', 'Aromatic Residue'), ('porphyrin', 'Binding Site'), ('porphyrin', 'C-Type Cytochromes'), ('porphyrin', 'Coarse-grained molecular dynamics simulations'), ('porphyrin', 'Heme'), ('porphyrin', 'Membrane-bound'), ('Thionville', 'alpha1beta2 interface'), ('Thionville', 'human'), ('Thionville', 'Bohr effect'), ('Thionville', 'deoxy Hb'), ('Thionville', 'sulfate'), ('Thionville', 'alpha and beta'), ('Thionville', 'alpha subunits'), ('Thionville', 'NOX'), ('Thionville', 'gas'), ('Thionville', 'nitric oxide'), ('Thionville', 'sensor'), ('Thionville', 'Aromatic Residue'), ('Thionville', 'Binding Site'), ('Thionville', 'C-Type Cytochromes'), ('Thionville', 'Coarse-grained molecular dynamics simulations'), ('Thionville', 'Heme'), ('Thionville', 'Membrane-bound'), ('alpha1beta2 interface', 'human'), ('alpha1beta2 interface', 'Bohr effect'), ('alpha1beta2 interface', 'deoxy Hb'), ('alpha1beta2 interface', 'sulfate'), ('alpha1beta2 interface', 'alpha and beta'), ('alpha1beta2 interface', 'alpha subunits'), ('alpha1beta2 interface', 'NOX'), ('alpha1beta2 interface', 'gas'), ('alpha1beta2 interface', 'nitric oxide'), ('alpha1beta2 interface', 'sensor'), ('alpha1beta2 interface', 'Aromatic Residue'), ('alpha1beta2 interface', 'Binding Site'), ('alpha1beta2 interface', 'C-Type Cytochromes'), ('alpha1beta2 interface', 'Coarse-grained molecular dynamics simulations'), ('alpha1beta2 interface', 'Heme'), ('alpha1beta2 interface', 'Membrane-bound'), ('human', 'Bohr effect'), ('human', 'deoxy Hb'), ('human', 'sulfate'), ('human', 'alpha and beta'), ('human', 'alpha subunits'), ('human', 'NOX'), ('human', 'gas'), ('human', 'nitric oxide'), ('human', 'sensor'), ('human', 'Aromatic Residue'), ('human', 'Binding Site'), ('human', 'C-Type Cytochromes'), ('human', 'Coarse-grained molecular dynamics simulations'), ('human', 'Heme'), ('human', 'Membrane-bound'), ('Bohr effect', 'deoxy Hb'), ('Bohr effect', 'sulfate'), ('Bohr effect', 'alpha and beta'), ('Bohr effect', 'alpha subunits'), ('Bohr effect', 'NOX'), ('Bohr effect', 'gas'), ('Bohr effect', 'nitric oxide'), ('Bohr effect', 'sensor'), ('Bohr effect', 'Aromatic Residue'), ('Bohr effect', 'Binding Site'), ('Bohr effect', 'C-Type Cytochromes'), ('Bohr effect', 'Coarse-grained molecular dynamics simulations'), ('Bohr effect', 'Heme'), ('Bohr effect', 'Membrane-bound'), ('deoxy Hb', 'sulfate'), ('deoxy Hb', 'alpha and beta'), ('deoxy Hb', 'alpha subunits'), ('deoxy Hb', 'NOX'), ('deoxy Hb', 'gas'), ('deoxy Hb', 'nitric oxide'), ('deoxy Hb', 'sensor'), ('deoxy Hb', 'Aromatic Residue'), ('deoxy Hb', 'Binding Site'), ('deoxy Hb', 'C-Type Cytochromes'), ('deoxy Hb', 'Coarse-grained molecular dynamics simulations'), ('deoxy Hb', 'Heme'), ('deoxy Hb', 'Membrane-bound'), ('sulfate', 'alpha and beta'), ('sulfate', 'alpha subunits'), ('sulfate', 'NOX'), ('sulfate', 'gas'), ('sulfate', 'nitric oxide'), ('sulfate', 'sensor'), ('sulfate', 'Aromatic Residue'), ('sulfate', 'Binding Site'), ('sulfate', 'C-Type Cytochromes'), ('sulfate', 'Coarse-grained molecular dynamics simulations'), ('sulfate', 'Heme'), ('sulfate', 'Membrane-bound'), ('alpha and beta', 'alpha subunits'), ('alpha and beta', 'NOX'), ('alpha and beta', 'gas'), ('alpha and beta', 'nitric oxide'), ('alpha and beta', 'sensor'), ('alpha and beta', 'Aromatic Residue'), ('alpha and beta', 'Binding Site'), ('alpha and beta', 'C-Type Cytochromes'), ('alpha and beta', 'Coarse-grained molecular dynamics simulations'), ('alpha and beta', 'Heme'), ('alpha and beta', 'Membrane-bound'), ('alpha subunits', 'NOX'), ('alpha subunits', 'gas'), ('alpha subunits', 'nitric oxide'), ('alpha subunits', 'sensor'), ('alpha subunits', 'Aromatic Residue'), ('alpha subunits', 'Binding Site'), ('alpha subunits', 'C-Type Cytochromes'), ('alpha subunits', 'Coarse-grained molecular dynamics simulations'), ('alpha subunits', 'Heme'), ('alpha subunits', 'Membrane-bound'), ('NOX', 'gas'), ('NOX', 'nitric oxide'), ('NOX', 'sensor'), ('NOX', 'Aromatic Residue'), ('NOX', 'Binding Site'), ('NOX', 'C-Type Cytochromes'), ('NOX', 'Coarse-grained molecular dynamics simulations'), ('NOX', 'Heme'), ('NOX', 'Membrane-bound'), ('gas', 'nitric oxide'), ('gas', 'sensor'), ('gas', 'Aromatic Residue'), ('gas', 'Binding Site'), ('gas', 'C-Type Cytochromes'), ('gas', 'Coarse-grained molecular dynamics simulations'), ('gas', 'Heme'), ('gas', 'Membrane-bound'), ('nitric oxide', 'sensor'), ('nitric oxide', 'Aromatic Residue'), ('nitric oxide', 'Binding Site'), ('nitric oxide', 'C-Type Cytochromes'), ('nitric oxide', 'Coarse-grained molecular dynamics simulations'), ('nitric oxide', 'Heme'), ('nitric oxide', 'Membrane-bound'), ('sensor', 'Aromatic Residue'), ('sensor', 'Binding Site'), ('sensor', 'C-Type Cytochromes'), ('sensor', 'Coarse-grained molecular dynamics simulations'), ('sensor', 'Heme'), ('sensor', 'Membrane-bound'), ('Aromatic Residue', 'Binding Site'), ('Aromatic Residue', 'C-Type Cytochromes'), ('Aromatic Residue', 'Coarse-grained molecular dynamics simulations'), ('Aromatic Residue', 'Heme'), ('Aromatic Residue', 'Membrane-bound'), ('Binding Site', 'C-Type Cytochromes'), ('Binding Site', 'Coarse-grained molecular dynamics simulations'), ('Binding Site', 'Heme'), ('Binding Site', 'Membrane-bound'), ('C-Type Cytochromes', 'Coarse-grained molecular dynamics simulations'), ('C-Type Cytochromes', 'Heme'), ('C-Type Cytochromes', 'Membrane-bound'), ('Coarse-grained molecular dynamics simulations', 'Heme'), ('Coarse-grained molecular dynamics simulations', 'Membrane-bound'), ('Heme', 'Membrane-bound')]\n"
     ]
    }
   ],
   "source": [
    "print(list(itertools.combinations(p_list,2)))"
   ]
  },
  {
   "cell_type": "code",
   "execution_count": 13,
   "metadata": {},
   "outputs": [],
   "source": [
    "a = list(itertools.combinations(p_list,3))"
   ]
  },
  {
   "cell_type": "code",
   "execution_count": 14,
   "metadata": {},
   "outputs": [
    {
     "data": {
      "text/plain": [
       "['sulfite', 'aromatic ring', 'copper']"
      ]
     },
     "execution_count": 14,
     "metadata": {},
     "output_type": "execute_result"
    }
   ],
   "source": [
    "list(a[0])"
   ]
  },
  {
   "cell_type": "code",
   "execution_count": 15,
   "metadata": {},
   "outputs": [
    {
     "data": {
      "text/plain": [
       "array(['ATCC Desulfovibrio desulfuricans', 'ATCC catalytic activity',\n",
       "       'ATCC kinetics', 'ATCC partially reduced', 'ATCC photosystem II',\n",
       "       'Desulfovibrio desulfuricans catalytic activity',\n",
       "       'Desulfovibrio desulfuricans kinetics',\n",
       "       'Desulfovibrio desulfuricans partially reduced',\n",
       "       'Desulfovibrio desulfuricans photosystem II', 'aromatic ring ATCC',\n",
       "       'aromatic ring Desulfovibrio desulfuricans',\n",
       "       'aromatic ring catalytic activity', 'aromatic ring copper',\n",
       "       'aromatic ring kinetics', 'aromatic ring partially reduced',\n",
       "       'aromatic ring photosystem II', 'aromatic ring redox',\n",
       "       'catalytic activity kinetics',\n",
       "       'catalytic activity partially reduced',\n",
       "       'catalytic activity photosystem II', 'copper ATCC',\n",
       "       'copper Desulfovibrio desulfuricans', 'copper catalytic activity',\n",
       "       'copper kinetics', 'copper partially reduced',\n",
       "       'copper photosystem II', 'copper redox',\n",
       "       'kinetics partially reduced', 'kinetics photosystem II',\n",
       "       'partially reduced photosystem II', 'redox ATCC',\n",
       "       'redox Desulfovibrio desulfuricans', 'redox catalytic activity',\n",
       "       'redox kinetics', 'redox partially reduced',\n",
       "       'redox photosystem II', 'sulfite ATCC',\n",
       "       'sulfite Desulfovibrio desulfuricans', 'sulfite aromatic ring',\n",
       "       'sulfite catalytic activity', 'sulfite copper', 'sulfite kinetics',\n",
       "       'sulfite partially reduced', 'sulfite photosystem II',\n",
       "       'sulfite redox'], dtype=object)"
      ]
     },
     "execution_count": 15,
     "metadata": {},
     "output_type": "execute_result"
    }
   ],
   "source": [
    "unique_phrase_list"
   ]
  },
  {
   "cell_type": "code",
   "execution_count": 16,
   "metadata": {},
   "outputs": [],
   "source": [
    "def ven_diagram(list_sentence,unique_phrase_list,p_list):\n",
    "    #generate the list of list\n",
    "    list_of_list_com = []\n",
    "    counter = len(p_list)\n",
    "    while counter > 0:\n",
    "        list_of_list_com.append(list(itertools.combinations(p_list,counter)))\n",
    "        counter-=1\n",
    "        \n",
    "    #venn cover\n",
    "    len_p_list = len(p_list)#len of p_list\n",
    "    #find the sentence that matches current cover\n",
    "    ans = []\n",
    "    for i in range(len(list_of_list_com)):\n",
    "        for j in range(len(list_of_list_com[i])):\n",
    "            #find the phrase list that not in com_list\n",
    "            cur_list = list(list_of_list_com[i][j])\n",
    "            not_in_list = []\n",
    "            for pos in range(len(p_list)):\n",
    "                if p_list[pos] not in cur_list:\n",
    "                    not_in_list.append(p_list[pos])\n",
    "            \n",
    "            #find the sentence that cover all phrase in list_of_list_com[i][j] and not covered in not_in_list\n",
    "            for p in  range(len(list_sentence)):\n",
    "                flag_good = True\n",
    "                flag_good_filter = True\n",
    "                for q in range(len(cur_list)):\n",
    "                    if cur_list[q] not in list_sentence[p]:\n",
    "                        flag_good = False\n",
    "                        break\n",
    "                for g in range(len(not_in_list)):\n",
    "                    if not_in_list[g] in list_sentence[p]:\n",
    "                        flag_good_filter = False\n",
    "                        break\n",
    "                #pass all exam\n",
    "                #push current setence to result\n",
    "                if flag_good==True and flag_good_filter==True and list_sentence[p] not in ans:\n",
    "                    ans.append(list_sentence[p])\n",
    "                    \n",
    "        print('combination:',len_p_list,' choose ',len_p_list - i,' current lengh of ans is', len(ans))\n",
    "                    \n",
    "    return ans\n",
    "\n",
    "# a = ven_diagram(list_sentence.copy(),unique_phrase_list,p_list)\n",
    "# len(a[1])"
   ]
  },
  {
   "cell_type": "code",
   "execution_count": 19,
   "metadata": {},
   "outputs": [],
   "source": [
    "#%%\n",
    "def set_cover(sentence_list,unique_phrase_list,p_list):\n",
    "    #at each iteration\n",
    "        #find the sentence that cover most number of unvisted phrase\n",
    "        #mark those phrase as visited (pop)\n",
    "        #mark the sentence as visited (pop)\n",
    "    answer_sentence_list = []\n",
    "    touch_count_dic = []\n",
    "    count = 0\n",
    "    isempty = False\n",
    "    while len(p_list) > 0 and isempty==False:\n",
    "        #create a data structure to save how many unvisited phrase the current sentence touched\n",
    "        touch_count_dic = {} #key as num of phrase touched, value is a list of index of sentence\n",
    "        global_max_count = 0\n",
    "        for i in range(len(sentence_list)):\n",
    "            #compute num of touched\n",
    "            tmpcount = 0\n",
    "            for j in range(len(p_list)):\n",
    "                if p_list[j] in sentence_list[i]:\n",
    "                    tmpcount+=1\n",
    "            if tmpcount > global_max_count:\n",
    "                global_max_count = tmpcount\n",
    "            # save current result in dic\n",
    "            if tmpcount in touch_count_dic:\n",
    "                #return the list\n",
    "                curlist = touch_count_dic.get(tmpcount)\n",
    "                curlist.append(i)\n",
    "            else:\n",
    "                tmplist = []\n",
    "                tmplist.append(i)\n",
    "                touch_count_dic[tmpcount] = tmplist\n",
    "        #use the global max count to return lit of index of sentence that lead to the max current count\n",
    "        \n",
    "        list_of_max_index_sentence = touch_count_dic[global_max_count]\n",
    "        #pick the first one\n",
    "        selected_max_sentence_index = list_of_max_index_sentence[0]\n",
    "        selected_max_sentence = sentence_list[selected_max_sentence_index]\n",
    "        #set cover\n",
    "        visited_list = []\n",
    "#         print('what is sentence now', selected_max_sentence)\n",
    "        \n",
    "        for loc in range(len(p_list)):\n",
    "            if p_list[loc] in selected_max_sentence and p_list[loc] not in visited_list:\n",
    "                visited_list.append(p_list[loc])\n",
    "        #delete all visited list\n",
    "        print('!!!! visted list is', len(visited_list))\n",
    "#         print('what is sentence now', selected_max_sentence)\n",
    "        if len(visited_list) == 0:\n",
    "            isempty=True\n",
    "            break\n",
    "        for pos2 in range(len(visited_list)):\n",
    "            p_list.remove(visited_list[pos2])\n",
    "        answer_sentence_list.append(selected_max_sentence)\n",
    "        #remove the current sentencn\n",
    "        sentence_list.pop(selected_max_sentence_index)\n",
    "#         print('length of sentence list is', len(sentence_list))\n",
    "#         print('len of remainng list', p_list)\n",
    "    return answer_sentence_list"
   ]
  },
  {
   "cell_type": "code",
   "execution_count": 20,
   "metadata": {
    "scrolled": false
   },
   "outputs": [
    {
     "name": "stdout",
     "output_type": "stream",
     "text": [
      "!!!! visted list is 3\n",
      "!!!! visted list is 2\n",
      "!!!! visted list is 2\n",
      "!!!! visted list is 2\n",
      "!!!! visted list is 2\n",
      "!!!! visted list is 2\n",
      "!!!! visted list is 1\n",
      "!!!! visted list is 1\n",
      "!!!! visted list is 1\n",
      "!!!! visted list is 0\n",
      "current layer is:  0\n",
      "index : 0  A mixed culture of \u001b[31msulfate\u001b[0m-reducing bacteria containing the species \u001b[31mDesulfovibrio desulfuricans\u001b[0m was used to study sulfate-reduction stoichiometry and \u001b[31mkinetics\u001b[0m using ethanol as the carbon source.\n",
      "\n",
      "index : 1  Accumulation of reduced pheophytin a (Pheo-D1) in \u001b[31mphotosystem II\u001b[0m reaction center (PSII RC) under illumination at low \u001b[31mredox\u001b[0m potential is accompanied by changes in absorbance and circular dichroism spectra.\n",
      "\n",
      "index : 2  Complete nucleotide sequence of the tissue culture-adapted \u001b[31mATCC\u001b[0m-Wa strain of \u001b[31mhuman\u001b[0m rotavirus NSP4 was determined.\n",
      "\n",
      "index : 3  Furthermore, temperature-dependent line-width broadening in \u001b[31mpartially reduced\u001b[0m samples established that the \u001b[31maromatic ring\u001b[0m at position 43 participates in the control of the \u001b[31mkinetics\u001b[0m of intramolecular electron transfer.\n",
      "\n",
      "index : 4  However, the \u001b[31mcopper\u001b[0m complex produced less \u001b[31mgas\u001b[0mtric irritation than the parent drug.\n",
      "\n",
      "index : 5  It is distinct from known \u001b[31msulfite\u001b[0m reductases because it has a substantially higher \u001b[31mcatalytic activity\u001b[0m and a relatively low reactivity towards nitrite.\n",
      "\n",
      "index : 6  Alternatively, covalent coupling of viologen moieties to the tertiary amino groups of P(DMAEMA) brushes on the SS surface resulted in an increase in surface concentration of \u001b[31mquaternary\u001b[0m ammonium groups, accompanied by substantially enhanced antibacterial and anticorrosion capabilities against \u001b[31mDesulfovibrio desulfuricans\u001b[0m in anaerobic seawater, as revealed by antibacterial assay and electrochemical studies.\n",
      "\n",
      "index : 7  Oxidative/reductive (\u001b[31mredox\u001b[0m) DNA damage from radical species such as \u001b[31mnitric oxide\u001b[0m (NO*) are increasingly being implicated in the development of cancer.\n",
      "\n",
      "index : 8  Structures of Noncoordinated \u001b[31mAromatic Residue\u001b[0m Mutants in Tetraheme Cytochrome c3 from Desulfovibrio vulgaris Miyazaki F.\n",
      "\n",
      "length of current p_list  30\n",
      "!!!! visted list is 3\n",
      "!!!! visted list is 2\n",
      "!!!! visted list is 2\n",
      "!!!! visted list is 2\n",
      "!!!! visted list is 2\n",
      "!!!! visted list is 1\n",
      "!!!! visted list is 1\n",
      "!!!! visted list is 1\n",
      "!!!! visted list is 1\n",
      "!!!! visted list is 1\n",
      "!!!! visted list is 1\n",
      "!!!! visted list is 1\n",
      "!!!! visted list is 0\n",
      "current layer is:  1\n",
      "index : 0  This indicates that the \u001b[31msulfate\u001b[0m binding site in \u001b[31mhuman\u001b[0m hemoglobin also serves as a Cl- binding site, and that the amino-terminal Val beta 1 is essential for oxygen-linked Cl- binding to hemoglobin as well as the Cl(-)-dependent \u001b[31mBohr effect\u001b[0m.\n",
      "\n",
      "index : 1  (2001) Biochemistry 40, 12357-12368] has identified the major region of \u001b[31mquaternary\u001b[0m constraint to be a cluster of residues at the \u001b[31malpha1beta2 interface\u001b[0m that is centered at Trp37beta.\n",
      "\n",
      "index : 2  A sensitive amperometric \u001b[31msensor\u001b[0m for determination of L-histidine was developed using gold electrode modified with Fe(III)-\u001b[31mporphyrin\u001b[0m bearing three 2,6-di-tert-butylphenol groups and one palmitoyl chain.\n",
      "\n",
      "index : 3  Analysis of oxygen equilibrium data within the framework of the two-state allosteric model indicates that the structure of \u001b[31mdeoxy Hb\u001b[0m \u001b[31mThionville\u001b[0m is stabilized relative to that of deoxy Hb A.\n",
      "\n",
      "index : 4  The predicted amino acid sequences of the \u001b[31malpha and beta\u001b[0m subunits were shown to be significantly different from other bacterial luciferases with 62 to 88% identity with the \u001b[31malpha subunits\u001b[0m and 47 to 71% identity with the beta subunits of other species.\n",
      "\n",
      "index : 5  A chemostat culture of the \u001b[31msulfate\u001b[0m-reducing bacterium Desulfovibrio oxyclinae isolated from the oxic layer of a hypersaline cyanobacterial mat was grown anaerobically and then subjected to \u001b[31mgas\u001b[0msing with 1% oxygen, both at a dilution rate of 0.05 h(-1).\n",
      "\n",
      "index : 6  Compounds that inhibited hydrolysis of 4-methylumbelliferyl \u001b[31msulfate\u001b[0m by both isolated hepatocytes and microsomes include sodium \u001b[31msulfite\u001b[0m (half-maximal inhibition, 0.1 mM), pregnenolone sulfate (half-maximal inhibition, 1 microM), and estrone sulfate (half-maximal inhibition, 10 microM).\n",
      "\n",
      "index : 7  \u001b[31mHeme\u001b[0m structures of a natural mutant hemoglobin (Hb), Hb M Iwate [alpha87(F8)His-->Tyr], and protonation of its F8-Tyr were examined with the 244-nm excited UV resonance Raman (UVRR) and the 406.7- and 441.6-nm excited visible resonance Raman (RR) spectroscopy.\n",
      "\n",
      "index : 8  In this work, we present an in situ ATR FTIR study of synergistic adsorption of \u001b[31msulfate\u001b[0m (SO4) and \u001b[31mcopper\u001b[0m (Cu) on goethite, which is representative of the minerals and ions present in mine wastes, acid sulfate soils, and other industrial and agricultural settings.\n",
      "\n",
      "index : 9  In vivo, the \u001b[31mporphyrin\u001b[0m \u001b[31mkinetics\u001b[0m from ALA exhibited an early peak between 3 and 4 h in most tissues, whereas the dendrimer induced sustained porphyrin production for over 24 h and basal values were not reached until 48 h after administration.\n",
      "\n",
      "index : 10  Knowledge of the biological events that trigger the induction of genes upon treatment with \u001b[31mredox\u001b[0m-active Hb, as well as its catabolism, is still incomplete.\n",
      "\n",
      "index : 11  Sulfasalazine inhibited tumor necrosis factor alpha-induced activation of endogenous IKK in Jurkat T cells and SW620 colon cells, as well as the \u001b[31mcatalytic activity\u001b[0m of purified IKK-alpha and IKK-beta in vitro.\n",
      "\n",
      "length of current p_list  30\n",
      "!!!! visted list is 5\n",
      "!!!! visted list is 3\n",
      "!!!! visted list is 2\n",
      "!!!! visted list is 1\n",
      "!!!! visted list is 1\n",
      "!!!! visted list is 1\n",
      "!!!! visted list is 1\n",
      "!!!! visted list is 1\n",
      "!!!! visted list is 1\n",
      "!!!! visted list is 1\n",
      "!!!! visted list is 1\n",
      "!!!! visted list is 0\n",
      "current layer is:  2\n",
      "index : 0  \u001b[31mHeme\u001b[0m-\u001b[31mnitric oxide\u001b[0m/oxygen (H-\u001b[31mNOX\u001b[0m) binding domains are a recently discovered family of heme-based \u001b[31mgas\u001b[0m \u001b[31msensor\u001b[0m proteins that are conserved across eukaryotes and bacteria.\n",
      "\n",
      "index : 1  Furthermore, temperature-dependent line-width broadening in \u001b[31mpartially reduced\u001b[0m samples established that the \u001b[31maromatic ring\u001b[0m at position 43 participates in the control of the \u001b[31mkinetics\u001b[0m of intramolecular electron transfer.\n",
      "\n",
      "index : 2  Quinol Oxidation by \u001b[31mC-Type Cytochromes\u001b[0m: Structural Characterization of the Menaquinol \u001b[31mBinding Site\u001b[0m of Nrfha.\n",
      "\n",
      "index : 3  A cellular DNA binding protein, LBP-1, sequentially interacts in a concentration-dependent manner with two sites that surround the transcriptional initiation site of the \u001b[31mhuman\u001b[0m immunodeficiency virus type 1 (HIV-1) promoter.\n",
      "\n",
      "index : 4  All of these observations are consistent with a mechanism involving radical attack at the gamma-meso position of the heme cofactor, resulting in the intermediate formation of an iso\u001b[31mporphyrin\u001b[0m, the deprotonation of which produces the gamma-meso-alkyl heme derivative.\n",
      "\n",
      "index : 5  \u001b[31mCoarse-grained molecular dynamics simulations\u001b[0m suggest that the quinol binding site of NrfH and several other respiratory enzymes lie in the head group region of the membrane, which probably facilitates proton transfer to the periplasm.\n",
      "\n",
      "index : 6  Compared with the conventional zeolite membranes, the \u001b[31mcopper\u001b[0m net supported Cu(3)(BTC)(2) membrane exhibited high permeation flux in \u001b[31mgas\u001b[0m separation.\n",
      "\n",
      "index : 7  However, the in situ \u001b[31mredox\u001b[0m status of OM c-Cyts during microbial metal reduction processes remain poorly understood.\n",
      "\n",
      "index : 8  \u001b[31mMembrane-bound\u001b[0m cytochrome c quinol dehydrogenases play a crucial role in bacterial respiration by oxidizing menaquinol and transferring electrons to various periplasmic oxidoreductases.\n",
      "\n",
      "index : 9  PDE6 (type 6 phosphodiesterase) from rod outer segments consists of two types of catalytic subunits, \u001b[31malpha and beta\u001b[0m; two inhibitory gamma subunits; and one or more delta subunits found only on the soluble form of the enzyme.\n",
      "\n",
      "index : 10  Structures of Noncoordinated \u001b[31mAromatic Residue\u001b[0m Mutants in Tetraheme Cytochrome c3 from Desulfovibrio vulgaris Miyazaki F.\n",
      "\n",
      "length of current p_list  30\n"
     ]
    }
   ],
   "source": [
    "#%%\n",
    "def annotating_function(answer,p_list): #only mark the first occurance of a phrase exist in sentence\n",
    "    #iter through every answer\n",
    "    for i in range(len(answer)):\n",
    "        for j in range(len(p_list)):\n",
    "            if p_list[j] in answer[i]:\n",
    "                #find the starting index\n",
    "                start = answer[i].find(p_list[j])\n",
    "                end = start + len(p_list[j])\n",
    "                answer[i] = answer[i][0:start] + colored(p_list[j],'red') + answer[i][end:]\n",
    "    for i in range(len(answer)):\n",
    "        print('index :', i, '', answer[i] +'\\n')\n",
    "\n",
    "        \n",
    "def filter_sentence():\n",
    "    #save sentence that beencoved from multip layer phrase\n",
    "    \n",
    "\n",
    "#%%\n",
    "def main_func():\n",
    "    with open('./output_data/tmp/article_pool.json', 'r') as input_file:\n",
    "        phrase_list = json.load(input_file)\n",
    "    layer_num = len(phrase_list)  #how many layer\n",
    "    full_output = []\n",
    "    #<change on 07032019>\n",
    "    list_phrase = []\n",
    "    \n",
    "    #<change on 07032019>\n",
    "    for i in range(layer_num):\n",
    "        data_df_layer_1 = pd.DataFrame(phrase_list[i])\n",
    "        unique_phrase_list = np.unique(data_df_layer_1['phrase'].values)\n",
    "        #p_list = list(pd.read_json('./output_data/tmp/selected_phrases.json',typ='series')[i])\n",
    "#         list_of_phrase_list =  create_sentece_list(unique_phrase_list)\n",
    "        p_list = p_list_fixed_points(layer_num)\n",
    "        #<change on 07032019 >\n",
    "        list_phrase.append(list(pd.read_json('./output_data/tmp/selected_phrases.json',typ='series')[i]))\n",
    "        #<change on 07032019 >\n",
    "        list_sentence = create_sentence_pool(data_df_layer_1)\n",
    "        #run\n",
    "        answer = set_cover(list(list_sentence),list(unique_phrase_list),p_list.copy())\n",
    "        full_output.append(answer)          \n",
    "        print('current layer is: ',i )\n",
    "        annotating_function(answer.copy(),p_list)\n",
    "        print('length of current p_list ', len(p_list))\n",
    "        \n",
    "    #<------change on 0703/2019------------->\n",
    "    #filter the selected sentence\n",
    "    \n",
    "    \n",
    "    \n",
    "    #<------change on 0703/2019------------->\n",
    "    with open('./output_data/summaries.json', 'w') as outfile:\n",
    "            json.dump(full_output, outfile, indent = 4)\n",
    "\n",
    "\n",
    "#%%\n",
    "# Runs the entire program\n",
    "main_func()\n",
    "\n",
    "\n"
   ]
  },
  {
   "cell_type": "code",
   "execution_count": 23,
   "metadata": {},
   "outputs": [
    {
     "data": {
      "text/plain": [
       "['NOX',\n",
       " 'gas',\n",
       " 'nitric oxide',\n",
       " 'sensor',\n",
       " 'Aromatic Residue',\n",
       " 'Binding Site',\n",
       " 'C-Type Cytochromes',\n",
       " 'Coarse-grained molecular dynamics simulations',\n",
       " 'Heme',\n",
       " 'Membrane-bound']"
      ]
     },
     "execution_count": 23,
     "metadata": {},
     "output_type": "execute_result"
    }
   ],
   "source": [
    "p_list = list(pd.read_json('./output_data/tmp/selected_phrases.json',typ='series')[2])\n",
    "p_list"
   ]
  },
  {
   "cell_type": "code",
   "execution_count": null,
   "metadata": {},
   "outputs": [],
   "source": []
  }
 ],
 "metadata": {
  "kernelspec": {
   "display_name": "Python 3",
   "language": "python",
   "name": "python3"
  },
  "language_info": {
   "codemirror_mode": {
    "name": "ipython",
    "version": 3
   },
   "file_extension": ".py",
   "mimetype": "text/x-python",
   "name": "python",
   "nbconvert_exporter": "python",
   "pygments_lexer": "ipython3",
   "version": "3.7.3"
  }
 },
 "nbformat": 4,
 "nbformat_minor": 2
}
